{
 "cells": [
  {
   "cell_type": "code",
   "execution_count": null,
   "metadata": {},
   "outputs": [],
   "source": [
    "import scipy.io\n",
    "import numpy as np\n",
    "\n",
    "import time\n",
    "\n",
    "import matplotlib\n",
    "import matplotlib.pyplot as plt\n",
    "\n",
    "from MCDM import MCDM_filter"
   ]
  },
  {
   "cell_type": "code",
   "execution_count": null,
   "metadata": {},
   "outputs": [],
   "source": [
    "def make_matching_figure(\n",
    "        img0, img1, mkpts0, mkpts1, color,\n",
    "        kpts0=None, kpts1=None, text=[], dpi=75, path=None):\n",
    "    # draw image pair\n",
    "    assert mkpts0.shape[0] == mkpts1.shape[0], f'mkpts0: {mkpts0.shape[0]} v.s. mkpts1: {mkpts1.shape[0]}'\n",
    "    fig, axes = plt.subplots(1, 2, figsize=(10, 6), dpi=dpi)\n",
    "    axes[0].imshow(img0, cmap='gray')\n",
    "    axes[1].imshow(img1, cmap='gray')\n",
    "    for i in range(2):   # clear all frames\n",
    "        axes[i].get_yaxis().set_ticks([])\n",
    "        axes[i].get_xaxis().set_ticks([])\n",
    "        for spine in axes[i].spines.values():\n",
    "            spine.set_visible(False)\n",
    "    plt.tight_layout(pad=1)\n",
    "    \n",
    "    if kpts0 is not None:\n",
    "        assert kpts1 is not None\n",
    "        axes[0].scatter(kpts0[:, 0], kpts0[:, 1], c='w', s=2)\n",
    "        axes[1].scatter(kpts1[:, 0], kpts1[:, 1], c='w', s=2)\n",
    "\n",
    "    # draw matches\n",
    "    if mkpts0.shape[0] != 0 and mkpts1.shape[0] != 0:\n",
    "        fig.canvas.draw()\n",
    "        transFigure = fig.transFigure.inverted()\n",
    "        fkpts0 = transFigure.transform(axes[0].transData.transform(mkpts0))\n",
    "        fkpts1 = transFigure.transform(axes[1].transData.transform(mkpts1))\n",
    "        fig.lines = [matplotlib.lines.Line2D((fkpts0[i, 0], fkpts1[i, 0]),\n",
    "                                            (fkpts0[i, 1], fkpts1[i, 1]),\n",
    "                                            transform=fig.transFigure, c=color, linewidth=1)\n",
    "                                        for i in range(len(mkpts0))]\n",
    "        \n",
    "        axes[0].scatter(mkpts0[:, 0], mkpts0[:, 1], c=color, s=4)\n",
    "        axes[1].scatter(mkpts1[:, 0], mkpts1[:, 1], c=color, s=4)\n",
    "\n",
    "    # put txts\n",
    "    txt_color = 'k'\n",
    "    fig.text(\n",
    "        0.01, 0.99, '\\n'.join(text), transform=fig.axes[0].transAxes,\n",
    "        fontsize=15, va='top', ha='left', color=txt_color)\n",
    "\n",
    "    # save or return figure\n",
    "    if path:\n",
    "        plt.savefig(str(path), bbox_inches='tight', pad_inches=0)\n",
    "        plt.close()\n",
    "    else:\n",
    "        return fig"
   ]
  },
  {
   "cell_type": "code",
   "execution_count": null,
   "metadata": {},
   "outputs": [],
   "source": [
    "\n",
    "## loading images and correspondences\n",
    "\n",
    "data = scipy.io.loadmat('church.mat')\n",
    "\n",
    "X = data['X']\n",
    "Y = data['Y']\n",
    "I1 = data['I1']\n",
    "I2 = data['I2']\n",
    "\n",
    "## run main function, use MCDM to filter correspondences\n",
    "\n",
    "start = time.perf_counter()\n",
    "K = 3\n",
    "lambda_ = 1.5\n",
    "mask = MCDM_filter(X, Y, K, lambda_)\n",
    "end = time.perf_counter()\n",
    "print(\"Time cost: {} seconds\".format(end-start))\n",
    "\n",
    "\n",
    "## Visualization\n",
    "\n",
    "color = np.array([[0., 1., 1.]])\n",
    "fig = make_matching_figure(I1, I2, X[:,:], Y[:,:], color, text=['Before'])\n",
    "fig = make_matching_figure(I1, I2, X[mask,:], Y[mask,:], color, text=['After'])"
   ]
  }
 ],
 "metadata": {
  "kernelspec": {
   "display_name": "Python 3.9.13 ('normal': conda)",
   "language": "python",
   "name": "python3"
  },
  "language_info": {
   "codemirror_mode": {
    "name": "ipython",
    "version": 3
   },
   "file_extension": ".py",
   "mimetype": "text/x-python",
   "name": "python",
   "nbconvert_exporter": "python",
   "pygments_lexer": "ipython3",
   "version": "3.9.13"
  },
  "orig_nbformat": 4,
  "vscode": {
   "interpreter": {
    "hash": "8b1a5c94e0ada21cafc1f48a825bce98dadbe4cdcefc9a59b370c8ce453f6978"
   }
  }
 },
 "nbformat": 4,
 "nbformat_minor": 2
}
